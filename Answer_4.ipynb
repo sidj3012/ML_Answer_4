{
  "nbformat": 4,
  "nbformat_minor": 0,
  "metadata": {
    "colab": {
      "provenance": []
    },
    "kernelspec": {
      "name": "python3",
      "display_name": "Python 3"
    },
    "language_info": {
      "name": "python"
    }
  },
  "cells": [
    {
      "cell_type": "code",
      "execution_count": 5,
      "metadata": {
        "colab": {
          "base_uri": "https://localhost:8080/"
        },
        "id": "x2dAq4kNpWtw",
        "outputId": "b8bdcb45-45df-4a62-f417-8146736462bf"
      },
      "outputs": [
        {
          "output_type": "stream",
          "name": "stdout",
          "text": [
            "      fixed acidity  volatile acidity  citric acid  residual sugar  chlorides  \\\n",
            "0          0.247788          0.397260         0.00        0.068493   0.106845   \n",
            "1          0.283186          0.520548         0.00        0.116438   0.143573   \n",
            "2          0.283186          0.438356         0.04        0.095890   0.133556   \n",
            "3          0.584071          0.109589         0.56        0.068493   0.105175   \n",
            "4          0.247788          0.397260         0.00        0.068493   0.106845   \n",
            "...             ...               ...          ...             ...        ...   \n",
            "1138       0.150442          0.267123         0.13        0.095890   0.106845   \n",
            "1139       0.194690          0.342466         0.08        0.068493   0.093489   \n",
            "1140       0.141593          0.328767         0.08        0.075342   0.130217   \n",
            "1141       0.115044          0.294521         0.10        0.089041   0.083472   \n",
            "1142       0.115044          0.359589         0.12        0.075342   0.105175   \n",
            "\n",
            "      free sulfur dioxide  total sulfur dioxide   density        pH  \\\n",
            "0                0.149254              0.098940  0.567548  0.606299   \n",
            "1                0.358209              0.215548  0.494126  0.362205   \n",
            "2                0.208955              0.169611  0.508811  0.409449   \n",
            "3                0.238806              0.190813  0.582232  0.330709   \n",
            "4                0.149254              0.098940  0.567548  0.606299   \n",
            "...                   ...                   ...       ...       ...   \n",
            "1138             0.417910              0.120141  0.416300  0.535433   \n",
            "1139             0.402985              0.113074  0.472834  0.535433   \n",
            "1140             0.462687              0.134276  0.354626  0.559055   \n",
            "1141             0.567164              0.159011  0.370778  0.614173   \n",
            "1142             0.462687              0.134276  0.396476  0.653543   \n",
            "\n",
            "      sulphates   alcohol  quality        Id  \n",
            "0      0.137725  0.153846        0  0.000000  \n",
            "1      0.209581  0.215385        0  0.000626  \n",
            "2      0.191617  0.215385        0  0.001252  \n",
            "3      0.149701  0.215385        0  0.001879  \n",
            "4      0.137725  0.153846        0  0.002505  \n",
            "...         ...       ...      ...       ...  \n",
            "1138   0.251497  0.400000        0  0.996869  \n",
            "1139   0.293413  0.169231        0  0.997495  \n",
            "1140   0.149701  0.323077        0  0.998121  \n",
            "1141   0.257485  0.430769        0  0.998748  \n",
            "1142   0.227545  0.276923        0  1.000000  \n",
            "\n",
            "[1143 rows x 13 columns]\n"
          ]
        }
      ],
      "source": [
        "import pandas as pd\n",
        "from sklearn.preprocessing import MinMaxScaler\n",
        "dataset = pd.read_csv('WineQT.csv')\n",
        "dataset['quality'] = dataset['quality'].apply(lambda x: 0 if x <= 6 else 1)\n",
        "scaler = MinMaxScaler()\n",
        "attributes = dataset.columns.difference(['quality'])\n",
        "dataset[attributes] = scaler.fit_transform(dataset[attributes])\n",
        "print(dataset)"
      ]
    }
  ]
}